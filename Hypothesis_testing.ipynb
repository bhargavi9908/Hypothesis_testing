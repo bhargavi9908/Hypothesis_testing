{
 "cells": [
  {
   "cell_type": "code",
   "execution_count": 14,
   "id": "dd2551a5-f3bd-4f85-968f-bb7d01f5ee7d",
   "metadata": {},
   "outputs": [
    {
     "name": "stdout",
     "output_type": "stream",
     "text": [
      "P-value: 0.2278\n",
      "Chi-Square Statistic: 5.6382\n",
      "Degrees of Freedom: 4\n",
      "Critical Value: 0.2278\n",
      "Reject the null hypothesis. There is a significant association between satisfaction and smart thermostat/smart light usage.\n"
     ]
    }
   ],
   "source": [
    "# Q1) Chi-Square test : Association between Device Type and Customer Satisfaction\n",
    "\n",
    "import numpy as np\n",
    "from scipy.stats import chi2_contingency #using this for chisquare\n",
    "\n",
    "# Given data as per the prblem\n",
    "observed = np.array([\n",
    "    [50, 70],\n",
    "    [80, 100],\n",
    "    [60, 90],\n",
    "    [30, 50],\n",
    "    [20, 50]\n",
    "])\n",
    "\n",
    "# we are Calculating expected frequencies using the chi-square test of independence\n",
    "chisquare, PVALUE, dof, expected = chi2_contingency(observed)\n",
    "print(\"P-value:\", PVALUE.round(4)) #round is used for displaying the value after decimal\n",
    "\n",
    "\n",
    "# 1. State the Hypotheses(PVALUE):\n",
    "# Hypotheses: \n",
    "# Reject the null hypothesis. There is a significant association between satisfaction and smart thermostat/smart light usage.\n",
    "# Fail to reject the null hypothesis. There is no significant association between satisfaction and smart thermostat/smart light usage.\n",
    "\n",
    "\n",
    "# 2. Computing the Chi-Square Statistic:\n",
    "print(\"Chi-Square Statistic:\", chisquare.round(4))\n",
    "\n",
    "# 3. Determining the Critical Value:\n",
    "alpha = 0.05 #given in probelm\n",
    "critical_value = chi2_contingency(observed)[1] # here chi2_contingency returns a tuple, so we're selecting the p-value from it\n",
    "degrees_of_freedom = (observed.shape[0] - 1) * (observed.shape[1] - 1)\n",
    "print(\"Degrees of Freedom:\", degrees_of_freedom)\n",
    "print(\"Critical Value:\", critical_value.round(4))\n",
    "\n",
    "# 4. Make a Decision:\n",
    "if chisquare > critical_value:\n",
    "    print(\"Reject the null hypothesis. There is a significant association between satisfaction and smart thermostat/smart light usage.\")\n",
    "else:\n",
    "    print(\"Fail to reject the null hypothesis. There is no significant association between satisfaction and smart thermostat/smart light usage.\")\n"
   ]
  },
  {
   "cell_type": "code",
   "execution_count": 18,
   "id": "10ee833f-f2b1-4947-8011-37c51dcc39c0",
   "metadata": {},
   "outputs": [
    {
     "name": "stdout",
     "output_type": "stream",
     "text": [
      "Test Statistic (t-score): -38.0\n",
      "Critical Value: 1.71088\n",
      "Decision: Fail to reject the null hypothesis\n",
      "Conclusion: There is not enough evidence to support the restaurant owners' claim that the weekly operating costs are higher than the model suggests.\n"
     ]
    }
   ],
   "source": [
    "# Q2) Hypothesis Testing : To investigate the restaurant owners' claim about the increase in weekly operating costs using hypothesis testing.\n",
    "\n",
    "import scipy.stats as stats\n",
    "\n",
    "# Given data as per the problem\n",
    "sample_mean = 3050  # Sample mean weekly cost (Rs.)\n",
    "theoretical_mean = 1000 + 5 * 600  # Theoretical mean weekly cost according to the model (Rs.)\n",
    "std_dev = 5 * 25  # Standard deviation (Rs.)\n",
    "sample_size = 25  # Sample size\n",
    "alpha = 0.05  # Significance level\n",
    "\n",
    "# 1. Stating the Hypotheses statement:\n",
    "# Null Hypothesis (H0): The mean weekly operating cost is equal to the theoretical mean (H0: μ = μ0)\n",
    "# Alternative Hypothesis (H1): The mean weekly operating cost is higher than the theoretical mean (H1: μ > μ0)\n",
    "\n",
    "# 2. Calculating the Test Statistic (t-score):\n",
    "t_score = (sample_mean - theoretical_mean) / (std_dev / (sample_size ** 0.5))\n",
    "\n",
    "# 3. Determining the Critical Value:\n",
    "# Degrees of freedom for a one-sample t-test is (n - 1)\n",
    "degrees_of_freedom = sample_size - 1\n",
    "\n",
    "# Finding the critical value from the t-distribution\n",
    "critical_value = stats.t.ppf(1 - alpha, degrees_of_freedom)\n",
    "\n",
    "# 4. Make a Decision:\n",
    "# If the test statistic is greater than the critical value, reject the null hypothesis\n",
    "# Otherwise, fail to reject the null hypothesis\n",
    "if t_score > critical_value:\n",
    "    decision = \"Reject the null hypothesis\"\n",
    "else:\n",
    "    decision = \"Fail to reject the null hypothesis\"\n",
    "\n",
    "# 5. Conclusion:\n",
    "# If we reject the null hypothesis, we have evidence to support the claim that the weekly operating costs are higher than the model suggests.\n",
    "# If we fail to reject the null hypothesis, there is not enough evidence to support the claim.\n",
    "if t_score > critical_value:\n",
    "    conclusion = \"There is strong evidence to support the restaurant owners' claim that the weekly operating costs are higher than the model suggests.\"\n",
    "else:\n",
    "    conclusion = \"There is not enough evidence to support the restaurant owners' claim that the weekly operating costs are higher than the model suggests.\"\n",
    "\n",
    "# Output the results\n",
    "print(\"Test Statistic (t-score):\", t_score)\n",
    "print(\"Critical Value:\", critical_value.round(5))\n",
    "print(\"Decision:\", decision)\n",
    "print(\"Conclusion:\", conclusion)\n"
   ]
  },
  {
   "cell_type": "code",
   "execution_count": null,
   "id": "52ec8c8d-8889-44f9-87b9-459bb7843762",
   "metadata": {},
   "outputs": [],
   "source": []
  },
  {
   "cell_type": "code",
   "execution_count": null,
   "id": "c6734b56-0e80-4f37-88c8-d94e6dfabf5d",
   "metadata": {},
   "outputs": [],
   "source": []
  }
 ],
 "metadata": {
  "kernelspec": {
   "display_name": "Python 3 (ipykernel)",
   "language": "python",
   "name": "python3"
  },
  "language_info": {
   "codemirror_mode": {
    "name": "ipython",
    "version": 3
   },
   "file_extension": ".py",
   "mimetype": "text/x-python",
   "name": "python",
   "nbconvert_exporter": "python",
   "pygments_lexer": "ipython3",
   "version": "3.12.4"
  }
 },
 "nbformat": 4,
 "nbformat_minor": 5
}
